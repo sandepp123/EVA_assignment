{
  "nbformat": 4,
  "nbformat_minor": 0,
  "metadata": {
    "colab": {
      "name": "Untitled14.ipynb",
      "provenance": [],
      "collapsed_sections": []
    },
    "kernelspec": {
      "name": "python3",
      "display_name": "Python 3"
    },
    "accelerator": "GPU"
  },
  "cells": [
    {
      "cell_type": "code",
      "metadata": {
        "id": "x1GTZqCZSdXg",
        "colab_type": "code",
        "colab": {
          "base_uri": "https://localhost:8080/",
          "height": 34
        },
        "outputId": "fae3416f-3f89-423a-fc60-01a8564e0f9f"
      },
      "source": [
        "#cd drive/My\\ Drive/S9_quiz"
      ],
      "execution_count": 1,
      "outputs": [
        {
          "output_type": "stream",
          "text": [
            "/content/drive/My Drive/S9_quiz\n"
          ],
          "name": "stdout"
        }
      ]
    },
    {
      "cell_type": "code",
      "metadata": {
        "id": "Cpoh3MakTV-y",
        "colab_type": "code",
        "colab": {
          "base_uri": "https://localhost:8080/",
          "height": 34
        },
        "outputId": "5df01e69-ea51-4449-e97d-2e3d9e7c1c0a"
      },
      "source": [
        "from datetime import datetime\n",
        "print(\"Current Date/Time: \", datetime.now())\n"
      ],
      "execution_count": 2,
      "outputs": [
        {
          "output_type": "stream",
          "text": [
            "Current Date/Time:  2020-03-21 14:33:49.170250\n"
          ],
          "name": "stdout"
        }
      ]
    },
    {
      "cell_type": "code",
      "metadata": {
        "id": "wxTYRAWOTpuZ",
        "colab_type": "code",
        "colab": {}
      },
      "source": [
        "from resnet import ResNet18\n",
        "import data_loader\n",
        "import random_dataset_ploot\n",
        "import training\n",
        "import torch\n",
        "import torchvision\n",
        "import torchvision.transforms as transforms\n",
        "from torchsummary import summary\n",
        "from model import QuizDNN\n",
        "nn = QuizDNN.QuizDNN()\n"
      ],
      "execution_count": 0,
      "outputs": []
    },
    {
      "cell_type": "code",
      "metadata": {
        "id": "7RrMsCW7Tvs1",
        "colab_type": "code",
        "colab": {
          "base_uri": "https://localhost:8080/",
          "height": 52
        },
        "outputId": "ada1df21-f511-4e8e-9de6-0b1f704b7874"
      },
      "source": [
        "\n",
        "trainloader,testloader,classes = data_loader.data_loader_cifar()"
      ],
      "execution_count": 4,
      "outputs": [
        {
          "output_type": "stream",
          "text": [
            "Files already downloaded and verified\n",
            "Files already downloaded and verified\n"
          ],
          "name": "stdout"
        }
      ]
    },
    {
      "cell_type": "code",
      "metadata": {
        "id": "fvCpspAvUTND",
        "colab_type": "code",
        "colab": {
          "base_uri": "https://localhost:8080/",
          "height": 677
        },
        "outputId": "b151ed82-396a-41ad-93c1-e11b627668c4"
      },
      "source": [
        "use_cuda = torch.cuda.is_available()\n",
        "device = torch.device(\"cuda\" if use_cuda else \"cpu\")\n",
        "if device == 'cuda':\n",
        "    net = torch.nn.DataParallel(net)\n",
        "    cudnn.benchmark = True\n",
        "\n",
        "model = nn.to(device)\n",
        "summary(model, input_size=(3, 32, 32))"
      ],
      "execution_count": 5,
      "outputs": [
        {
          "output_type": "stream",
          "text": [
            "----------------------------------------------------------------\n",
            "        Layer (type)               Output Shape         Param #\n",
            "================================================================\n",
            "            Conv2d-1           [-1, 32, 30, 30]           2,432\n",
            "              ReLU-2           [-1, 32, 30, 30]               0\n",
            "            Conv2d-3           [-1, 32, 30, 30]           9,248\n",
            "              ReLU-4           [-1, 32, 30, 30]               0\n",
            "            Conv2d-5           [-1, 32, 30, 30]           9,248\n",
            "              ReLU-6           [-1, 32, 30, 30]               0\n",
            "       BatchNorm2d-7           [-1, 32, 30, 30]              64\n",
            "         MaxPool2d-8           [-1, 32, 15, 15]               0\n",
            "            Conv2d-9           [-1, 32, 15, 15]           9,248\n",
            "             ReLU-10           [-1, 32, 15, 15]               0\n",
            "           Conv2d-11           [-1, 32, 15, 15]           9,248\n",
            "             ReLU-12           [-1, 32, 15, 15]               0\n",
            "           Conv2d-13           [-1, 32, 15, 15]           9,248\n",
            "             ReLU-14           [-1, 32, 15, 15]               0\n",
            "      BatchNorm2d-15           [-1, 32, 15, 15]              64\n",
            "        MaxPool2d-16             [-1, 32, 7, 7]               0\n",
            "           Conv2d-17             [-1, 32, 7, 7]           9,248\n",
            "             ReLU-18             [-1, 32, 7, 7]               0\n",
            "           Conv2d-19             [-1, 32, 7, 7]           9,248\n",
            "             ReLU-20             [-1, 32, 7, 7]               0\n",
            "           Conv2d-21             [-1, 32, 7, 7]           9,248\n",
            "             ReLU-22             [-1, 32, 7, 7]               0\n",
            "      BatchNorm2d-23             [-1, 32, 7, 7]              64\n",
            "AdaptiveAvgPool2d-24             [-1, 32, 1, 1]               0\n",
            "           Linear-25                   [-1, 10]             330\n",
            "================================================================\n",
            "Total params: 76,938\n",
            "Trainable params: 76,938\n",
            "Non-trainable params: 0\n",
            "----------------------------------------------------------------\n",
            "Input size (MB): 0.01\n",
            "Forward/backward pass size (MB): 2.07\n",
            "Params size (MB): 0.29\n",
            "Estimated Total Size (MB): 2.38\n",
            "----------------------------------------------------------------\n"
          ],
          "name": "stdout"
        }
      ]
    },
    {
      "cell_type": "code",
      "metadata": {
        "id": "RNhBGqHlVP5r",
        "colab_type": "code",
        "colab": {
          "base_uri": "https://localhost:8080/",
          "height": 1000
        },
        "outputId": "8be7bc91-5ea1-4fb7-a86f-327bfb6d2985"
      },
      "source": [
        "from torch.optim.lr_scheduler import StepLR\n",
        "import torch.optim as optim\n",
        "model =  nn.to(device)\n",
        "optimizer = optim.SGD(nn.parameters(), lr=0.01, momentum=0.9, weight_decay=5e-4)\n",
        "scheduler = StepLR(optimizer, step_size=5, gamma=0.01)\n",
        "\n",
        "\n",
        "EPOCHS = 20\n",
        "for epoch in range(EPOCHS):\n",
        "    print(\"EPOCH:\", epoch)\n",
        "    training.train(model, device, trainloader, optimizer, epoch)\n",
        "    # scheduler.step()\n",
        "    training.test(model, device, testloader)"
      ],
      "execution_count": 6,
      "outputs": [
        {
          "output_type": "stream",
          "text": [
            "\r  0%|          | 0/1563 [00:00<?, ?it/s]"
          ],
          "name": "stderr"
        },
        {
          "output_type": "stream",
          "text": [
            "EPOCH: 0\n"
          ],
          "name": "stdout"
        },
        {
          "output_type": "stream",
          "text": [
            "Loss=0.8542478084564209 Batch_id=1562 Accuracy=44.13: 100%|██████████| 1563/1563 [00:21<00:00, 71.71it/s]\n",
            "  0%|          | 0/1563 [00:00<?, ?it/s]"
          ],
          "name": "stderr"
        },
        {
          "output_type": "stream",
          "text": [
            "\n",
            "Test set: Average loss: 0.0375, Accuracy: 5703/10000 (57.03%)\n",
            "\n",
            "EPOCH: 1\n"
          ],
          "name": "stdout"
        },
        {
          "output_type": "stream",
          "text": [
            "Loss=1.0659003257751465 Batch_id=1562 Accuracy=56.71: 100%|██████████| 1563/1563 [00:22<00:00, 70.67it/s]\n",
            "  0%|          | 0/1563 [00:00<?, ?it/s]"
          ],
          "name": "stderr"
        },
        {
          "output_type": "stream",
          "text": [
            "\n",
            "Test set: Average loss: 0.0359, Accuracy: 5890/10000 (58.90%)\n",
            "\n",
            "EPOCH: 2\n"
          ],
          "name": "stdout"
        },
        {
          "output_type": "stream",
          "text": [
            "Loss=0.7450491189956665 Batch_id=1562 Accuracy=63.29: 100%|██████████| 1563/1563 [00:22<00:00, 70.86it/s]\n",
            "  0%|          | 0/1563 [00:00<?, ?it/s]"
          ],
          "name": "stderr"
        },
        {
          "output_type": "stream",
          "text": [
            "\n",
            "Test set: Average loss: 0.0291, Accuracy: 6757/10000 (67.57%)\n",
            "\n",
            "EPOCH: 3\n"
          ],
          "name": "stdout"
        },
        {
          "output_type": "stream",
          "text": [
            "Loss=1.1302679777145386 Batch_id=1562 Accuracy=66.56: 100%|██████████| 1563/1563 [00:22<00:00, 70.14it/s]\n",
            "  0%|          | 0/1563 [00:00<?, ?it/s]"
          ],
          "name": "stderr"
        },
        {
          "output_type": "stream",
          "text": [
            "\n",
            "Test set: Average loss: 0.0286, Accuracy: 6844/10000 (68.44%)\n",
            "\n",
            "EPOCH: 4\n"
          ],
          "name": "stdout"
        },
        {
          "output_type": "stream",
          "text": [
            "Loss=0.5552934408187866 Batch_id=1562 Accuracy=68.60: 100%|██████████| 1563/1563 [00:22<00:00, 70.37it/s]\n",
            "  0%|          | 0/1563 [00:00<?, ?it/s]"
          ],
          "name": "stderr"
        },
        {
          "output_type": "stream",
          "text": [
            "\n",
            "Test set: Average loss: 0.0302, Accuracy: 6813/10000 (68.13%)\n",
            "\n",
            "EPOCH: 5\n"
          ],
          "name": "stdout"
        },
        {
          "output_type": "stream",
          "text": [
            "Loss=0.8538734316825867 Batch_id=1562 Accuracy=70.49: 100%|██████████| 1563/1563 [00:22<00:00, 71.03it/s]\n",
            "  0%|          | 0/1563 [00:00<?, ?it/s]"
          ],
          "name": "stderr"
        },
        {
          "output_type": "stream",
          "text": [
            "\n",
            "Test set: Average loss: 0.0233, Accuracy: 7468/10000 (74.68%)\n",
            "\n",
            "EPOCH: 6\n"
          ],
          "name": "stdout"
        },
        {
          "output_type": "stream",
          "text": [
            "Loss=0.5313819646835327 Batch_id=1562 Accuracy=71.69: 100%|██████████| 1563/1563 [00:22<00:00, 70.96it/s]\n",
            "  0%|          | 0/1563 [00:00<?, ?it/s]"
          ],
          "name": "stderr"
        },
        {
          "output_type": "stream",
          "text": [
            "\n",
            "Test set: Average loss: 0.0223, Accuracy: 7587/10000 (75.87%)\n",
            "\n",
            "EPOCH: 7\n"
          ],
          "name": "stdout"
        },
        {
          "output_type": "stream",
          "text": [
            "Loss=0.626812756061554 Batch_id=1562 Accuracy=72.56: 100%|██████████| 1563/1563 [00:21<00:00, 72.49it/s]\n",
            "  0%|          | 0/1563 [00:00<?, ?it/s]"
          ],
          "name": "stderr"
        },
        {
          "output_type": "stream",
          "text": [
            "\n",
            "Test set: Average loss: 0.0225, Accuracy: 7535/10000 (75.35%)\n",
            "\n",
            "EPOCH: 8\n"
          ],
          "name": "stdout"
        },
        {
          "output_type": "stream",
          "text": [
            "Loss=0.8213518261909485 Batch_id=1562 Accuracy=73.28: 100%|██████████| 1563/1563 [00:21<00:00, 72.31it/s]\n",
            "  0%|          | 0/1563 [00:00<?, ?it/s]"
          ],
          "name": "stderr"
        },
        {
          "output_type": "stream",
          "text": [
            "\n",
            "Test set: Average loss: 0.0224, Accuracy: 7553/10000 (75.53%)\n",
            "\n",
            "EPOCH: 9\n"
          ],
          "name": "stdout"
        },
        {
          "output_type": "stream",
          "text": [
            "Loss=0.7568252086639404 Batch_id=1562 Accuracy=73.88: 100%|██████████| 1563/1563 [00:21<00:00, 72.05it/s]\n",
            "  0%|          | 0/1563 [00:00<?, ?it/s]"
          ],
          "name": "stderr"
        },
        {
          "output_type": "stream",
          "text": [
            "\n",
            "Test set: Average loss: 0.0222, Accuracy: 7583/10000 (75.83%)\n",
            "\n",
            "EPOCH: 10\n"
          ],
          "name": "stdout"
        },
        {
          "output_type": "stream",
          "text": [
            "Loss=0.6435864567756653 Batch_id=1562 Accuracy=74.41: 100%|██████████| 1563/1563 [00:21<00:00, 73.19it/s]\n",
            "  0%|          | 0/1563 [00:00<?, ?it/s]"
          ],
          "name": "stderr"
        },
        {
          "output_type": "stream",
          "text": [
            "\n",
            "Test set: Average loss: 0.0203, Accuracy: 7798/10000 (77.98%)\n",
            "\n",
            "EPOCH: 11\n"
          ],
          "name": "stdout"
        },
        {
          "output_type": "stream",
          "text": [
            "Loss=0.6981669664382935 Batch_id=1562 Accuracy=74.84: 100%|██████████| 1563/1563 [00:21<00:00, 73.07it/s]\n",
            "  0%|          | 0/1563 [00:00<?, ?it/s]"
          ],
          "name": "stderr"
        },
        {
          "output_type": "stream",
          "text": [
            "\n",
            "Test set: Average loss: 0.0208, Accuracy: 7741/10000 (77.41%)\n",
            "\n",
            "EPOCH: 12\n"
          ],
          "name": "stdout"
        },
        {
          "output_type": "stream",
          "text": [
            "Loss=0.7776889204978943 Batch_id=1562 Accuracy=75.34: 100%|██████████| 1563/1563 [00:21<00:00, 72.34it/s]\n",
            "  0%|          | 0/1563 [00:00<?, ?it/s]"
          ],
          "name": "stderr"
        },
        {
          "output_type": "stream",
          "text": [
            "\n",
            "Test set: Average loss: 0.0206, Accuracy: 7804/10000 (78.04%)\n",
            "\n",
            "EPOCH: 13\n"
          ],
          "name": "stdout"
        },
        {
          "output_type": "stream",
          "text": [
            "Loss=0.8350569605827332 Batch_id=1562 Accuracy=75.55: 100%|██████████| 1563/1563 [00:21<00:00, 72.62it/s]\n",
            "  0%|          | 0/1563 [00:00<?, ?it/s]"
          ],
          "name": "stderr"
        },
        {
          "output_type": "stream",
          "text": [
            "\n",
            "Test set: Average loss: 0.0206, Accuracy: 7814/10000 (78.14%)\n",
            "\n",
            "EPOCH: 14\n"
          ],
          "name": "stdout"
        },
        {
          "output_type": "stream",
          "text": [
            "Loss=0.5731499791145325 Batch_id=1562 Accuracy=75.74: 100%|██████████| 1563/1563 [00:21<00:00, 72.60it/s]\n",
            "  0%|          | 0/1563 [00:00<?, ?it/s]"
          ],
          "name": "stderr"
        },
        {
          "output_type": "stream",
          "text": [
            "\n",
            "Test set: Average loss: 0.0190, Accuracy: 7937/10000 (79.37%)\n",
            "\n",
            "EPOCH: 15\n"
          ],
          "name": "stdout"
        },
        {
          "output_type": "stream",
          "text": [
            "Loss=0.47242841124534607 Batch_id=1562 Accuracy=76.53: 100%|██████████| 1563/1563 [00:21<00:00, 73.05it/s]\n",
            "  0%|          | 0/1563 [00:00<?, ?it/s]"
          ],
          "name": "stderr"
        },
        {
          "output_type": "stream",
          "text": [
            "\n",
            "Test set: Average loss: 0.0198, Accuracy: 7875/10000 (78.75%)\n",
            "\n",
            "EPOCH: 16\n"
          ],
          "name": "stdout"
        },
        {
          "output_type": "stream",
          "text": [
            "Loss=0.9765236377716064 Batch_id=1562 Accuracy=76.64: 100%|██████████| 1563/1563 [00:21<00:00, 72.15it/s]\n",
            "  0%|          | 0/1563 [00:00<?, ?it/s]"
          ],
          "name": "stderr"
        },
        {
          "output_type": "stream",
          "text": [
            "\n",
            "Test set: Average loss: 0.0196, Accuracy: 7863/10000 (78.63%)\n",
            "\n",
            "EPOCH: 17\n"
          ],
          "name": "stdout"
        },
        {
          "output_type": "stream",
          "text": [
            "Loss=0.5114248991012573 Batch_id=1562 Accuracy=76.73: 100%|██████████| 1563/1563 [00:21<00:00, 73.73it/s]\n",
            "  0%|          | 0/1563 [00:00<?, ?it/s]"
          ],
          "name": "stderr"
        },
        {
          "output_type": "stream",
          "text": [
            "\n",
            "Test set: Average loss: 0.0183, Accuracy: 8011/10000 (80.11%)\n",
            "\n",
            "EPOCH: 18\n"
          ],
          "name": "stdout"
        },
        {
          "output_type": "stream",
          "text": [
            "Loss=0.3729252219200134 Batch_id=1562 Accuracy=77.12: 100%|██████████| 1563/1563 [00:21<00:00, 73.74it/s]\n",
            "  0%|          | 0/1563 [00:00<?, ?it/s]"
          ],
          "name": "stderr"
        },
        {
          "output_type": "stream",
          "text": [
            "\n",
            "Test set: Average loss: 0.0197, Accuracy: 7864/10000 (78.64%)\n",
            "\n",
            "EPOCH: 19\n"
          ],
          "name": "stdout"
        },
        {
          "output_type": "stream",
          "text": [
            "Loss=0.4939430356025696 Batch_id=1562 Accuracy=77.27: 100%|██████████| 1563/1563 [00:21<00:00, 73.24it/s]\n"
          ],
          "name": "stderr"
        },
        {
          "output_type": "stream",
          "text": [
            "\n",
            "Test set: Average loss: 0.0193, Accuracy: 7938/10000 (79.38%)\n",
            "\n"
          ],
          "name": "stdout"
        }
      ]
    },
    {
      "cell_type": "code",
      "metadata": {
        "id": "URbTBXMLWIYO",
        "colab_type": "code",
        "colab": {}
      },
      "source": [
        ""
      ],
      "execution_count": 0,
      "outputs": []
    }
  ]
}